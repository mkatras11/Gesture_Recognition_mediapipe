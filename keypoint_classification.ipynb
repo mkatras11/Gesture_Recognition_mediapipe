{
  "cells": [
    {
      "cell_type": "code",
      "execution_count": 23,
      "metadata": {
        "id": "igMyGnjE9hEp"
      },
      "outputs": [],
      "source": [
        "import csv\n",
        "\n",
        "import numpy as np\n",
        "import tensorflow as tf\n",
        "from sklearn.model_selection import train_test_split\n",
        "\n",
        "RANDOM_SEED = 42"
      ]
    },
    {
      "cell_type": "markdown",
      "metadata": {
        "id": "t2HDvhIu9hEr"
      },
      "source": [
        "# Specify each path"
      ]
    },
    {
      "cell_type": "code",
      "execution_count": 24,
      "metadata": {
        "id": "9NvZP2Zn9hEy"
      },
      "outputs": [],
      "source": [
        "dataset = 'model/keypoint_classifier/keypoint.csv'\n",
        "model_save_path = 'model/keypoint_classifier/keypoint_classifier.hdf5'\n",
        "tflite_save_path = 'model/keypoint_classifier/keypoint_classifier.tflite'"
      ]
    },
    {
      "cell_type": "markdown",
      "metadata": {
        "id": "s5oMH7x19hEz"
      },
      "source": [
        "# Set number of classes"
      ]
    },
    {
      "cell_type": "code",
      "execution_count": 25,
      "metadata": {
        "id": "du4kodXL9hEz"
      },
      "outputs": [],
      "source": [
        "NUM_CLASSES = 3"
      ]
    },
    {
      "cell_type": "markdown",
      "metadata": {
        "id": "XjnL0uso9hEz"
      },
      "source": [
        "# Dataset reading"
      ]
    },
    {
      "cell_type": "code",
      "execution_count": 26,
      "metadata": {
        "id": "QT5ZqtEz9hE0"
      },
      "outputs": [],
      "source": [
        "X_dataset = np.loadtxt(dataset, delimiter=',', dtype='float32', usecols=list(range(1, (21 * 2) + 1)))"
      ]
    },
    {
      "cell_type": "code",
      "execution_count": 27,
      "metadata": {
        "id": "QmoKFsp49hE0"
      },
      "outputs": [],
      "source": [
        "y_dataset = np.loadtxt(dataset, delimiter=',', dtype='int32', usecols=(0))"
      ]
    },
    {
      "cell_type": "code",
      "execution_count": 28,
      "metadata": {
        "id": "xQU7JTZ_9hE0"
      },
      "outputs": [],
      "source": [
        "X_train, X_test, y_train, y_test = train_test_split(X_dataset, y_dataset, train_size=0.75, random_state=RANDOM_SEED)"
      ]
    },
    {
      "cell_type": "markdown",
      "metadata": {
        "id": "mxK_lETT9hE0"
      },
      "source": [
        "# Model building"
      ]
    },
    {
      "cell_type": "code",
      "execution_count": 29,
      "metadata": {
        "id": "vHBmUf1t9hE1"
      },
      "outputs": [],
      "source": [
        "model = tf.keras.models.Sequential([\n",
        "    tf.keras.layers.Input((21 * 2, )),\n",
        "    tf.keras.layers.Dropout(0.2),\n",
        "    tf.keras.layers.Dense(20, activation='relu'),\n",
        "    tf.keras.layers.Dropout(0.4),\n",
        "    tf.keras.layers.Dense(10, activation='relu'),\n",
        "    tf.keras.layers.Dense(NUM_CLASSES, activation='softmax')\n",
        "])"
      ]
    },
    {
      "cell_type": "code",
      "execution_count": 30,
      "metadata": {
        "colab": {
          "base_uri": "https://localhost:8080/"
        },
        "id": "ypqky9tc9hE1",
        "outputId": "5db082bb-30e3-4110-bf63-a1ee777ecd46"
      },
      "outputs": [
        {
          "name": "stdout",
          "output_type": "stream",
          "text": [
            "Model: \"sequential_1\"\n",
            "_________________________________________________________________\n",
            " Layer (type)                Output Shape              Param #   \n",
            "=================================================================\n",
            " dropout_2 (Dropout)         (None, 42)                0         \n",
            "                                                                 \n",
            " dense_3 (Dense)             (None, 20)                860       \n",
            "                                                                 \n",
            " dropout_3 (Dropout)         (None, 20)                0         \n",
            "                                                                 \n",
            " dense_4 (Dense)             (None, 10)                210       \n",
            "                                                                 \n",
            " dense_5 (Dense)             (None, 3)                 33        \n",
            "                                                                 \n",
            "=================================================================\n",
            "Total params: 1,103\n",
            "Trainable params: 1,103\n",
            "Non-trainable params: 0\n",
            "_________________________________________________________________\n"
          ]
        }
      ],
      "source": [
        "model.summary()  # tf.keras.utils.plot_model(model, show_shapes=True)"
      ]
    },
    {
      "cell_type": "code",
      "execution_count": 31,
      "metadata": {
        "id": "MbMjOflQ9hE1"
      },
      "outputs": [],
      "source": [
        "# Model checkpoint callback\n",
        "cp_callback = tf.keras.callbacks.ModelCheckpoint(\n",
        "    model_save_path, verbose=1, save_weights_only=False)\n",
        "# Callback for early stopping\n",
        "es_callback = tf.keras.callbacks.EarlyStopping(patience=20, verbose=1)"
      ]
    },
    {
      "cell_type": "code",
      "execution_count": 32,
      "metadata": {
        "id": "c3Dac0M_9hE2"
      },
      "outputs": [],
      "source": [
        "# Model compilation\n",
        "model.compile(\n",
        "    optimizer='adam',\n",
        "    loss='sparse_categorical_crossentropy',\n",
        "    metrics=['accuracy']\n",
        ")"
      ]
    },
    {
      "cell_type": "markdown",
      "metadata": {
        "id": "7XI0j1Iu9hE2"
      },
      "source": [
        "# Model training"
      ]
    },
    {
      "cell_type": "code",
      "execution_count": 33,
      "metadata": {
        "colab": {
          "base_uri": "https://localhost:8080/"
        },
        "id": "WirBl-JE9hE3",
        "outputId": "71b30ca2-8294-4d9d-8aa2-800d90d399de",
        "scrolled": true
      },
      "outputs": [
        {
          "name": "stdout",
          "output_type": "stream",
          "text": [
            "Epoch 1/1000\n",
            " 1/27 [>.............................] - ETA: 7s - loss: 1.1253 - accuracy: 0.3281\n",
            "Epoch 1: saving model to model/keypoint_classifier\\keypoint_classifier.hdf5\n",
            "27/27 [==============================] - 0s 7ms/step - loss: 1.1008 - accuracy: 0.3788 - val_loss: 1.0450 - val_accuracy: 0.5633\n",
            "Epoch 2/1000\n",
            " 1/27 [>.............................] - ETA: 0s - loss: 1.0494 - accuracy: 0.4844\n",
            "Epoch 2: saving model to model/keypoint_classifier\\keypoint_classifier.hdf5\n",
            "27/27 [==============================] - 0s 3ms/step - loss: 1.0522 - accuracy: 0.4282 - val_loss: 0.9978 - val_accuracy: 0.6532\n",
            "Epoch 3/1000\n",
            " 1/27 [>.............................] - ETA: 0s - loss: 1.0427 - accuracy: 0.4766\n",
            "Epoch 3: saving model to model/keypoint_classifier\\keypoint_classifier.hdf5\n",
            "27/27 [==============================] - 0s 3ms/step - loss: 1.0222 - accuracy: 0.4699 - val_loss: 0.9440 - val_accuracy: 0.6658\n",
            "Epoch 4/1000\n",
            " 1/27 [>.............................] - ETA: 0s - loss: 1.0158 - accuracy: 0.4375\n",
            "Epoch 4: saving model to model/keypoint_classifier\\keypoint_classifier.hdf5\n",
            "27/27 [==============================] - 0s 3ms/step - loss: 0.9913 - accuracy: 0.4951 - val_loss: 0.8881 - val_accuracy: 0.6909\n",
            "Epoch 5/1000\n",
            " 1/27 [>.............................] - ETA: 0s - loss: 0.9310 - accuracy: 0.5156\n",
            "Epoch 5: saving model to model/keypoint_classifier\\keypoint_classifier.hdf5\n",
            "27/27 [==============================] - 0s 3ms/step - loss: 0.9368 - accuracy: 0.5355 - val_loss: 0.8258 - val_accuracy: 0.7089\n",
            "Epoch 6/1000\n",
            " 1/27 [>.............................] - ETA: 0s - loss: 0.9215 - accuracy: 0.5234\n",
            "Epoch 6: saving model to model/keypoint_classifier\\keypoint_classifier.hdf5\n",
            "27/27 [==============================] - 0s 3ms/step - loss: 0.8969 - accuracy: 0.5664 - val_loss: 0.7732 - val_accuracy: 0.7188\n",
            "Epoch 7/1000\n",
            " 1/27 [>.............................] - ETA: 0s - loss: 0.9506 - accuracy: 0.4922\n",
            "Epoch 7: saving model to model/keypoint_classifier\\keypoint_classifier.hdf5\n",
            "27/27 [==============================] - 0s 3ms/step - loss: 0.8786 - accuracy: 0.5721 - val_loss: 0.7312 - val_accuracy: 0.7421\n",
            "Epoch 8/1000\n",
            " 1/27 [>.............................] - ETA: 0s - loss: 0.8938 - accuracy: 0.5469\n",
            "Epoch 8: saving model to model/keypoint_classifier\\keypoint_classifier.hdf5\n",
            "27/27 [==============================] - 0s 2ms/step - loss: 0.8566 - accuracy: 0.5820 - val_loss: 0.6883 - val_accuracy: 0.7583\n",
            "Epoch 9/1000\n",
            " 1/27 [>.............................] - ETA: 0s - loss: 0.8736 - accuracy: 0.5938\n",
            "Epoch 9: saving model to model/keypoint_classifier\\keypoint_classifier.hdf5\n",
            "27/27 [==============================] - 0s 3ms/step - loss: 0.8202 - accuracy: 0.5996 - val_loss: 0.6531 - val_accuracy: 0.7583\n",
            "Epoch 10/1000\n",
            " 1/27 [>.............................] - ETA: 0s - loss: 0.7899 - accuracy: 0.6641\n",
            "Epoch 10: saving model to model/keypoint_classifier\\keypoint_classifier.hdf5\n",
            "27/27 [==============================] - 0s 2ms/step - loss: 0.8033 - accuracy: 0.6179 - val_loss: 0.6224 - val_accuracy: 0.7709\n",
            "Epoch 11/1000\n",
            " 1/27 [>.............................] - ETA: 0s - loss: 0.7721 - accuracy: 0.6406\n",
            "Epoch 11: saving model to model/keypoint_classifier\\keypoint_classifier.hdf5\n",
            "27/27 [==============================] - 0s 3ms/step - loss: 0.7754 - accuracy: 0.6284 - val_loss: 0.5939 - val_accuracy: 0.7853\n",
            "Epoch 12/1000\n",
            " 1/27 [>.............................] - ETA: 0s - loss: 0.7580 - accuracy: 0.6328\n",
            "Epoch 12: saving model to model/keypoint_classifier\\keypoint_classifier.hdf5\n",
            "27/27 [==============================] - 0s 3ms/step - loss: 0.7622 - accuracy: 0.6512 - val_loss: 0.5708 - val_accuracy: 0.7925\n",
            "Epoch 13/1000\n",
            " 1/27 [>.............................] - ETA: 0s - loss: 0.7413 - accuracy: 0.6562\n",
            "Epoch 13: saving model to model/keypoint_classifier\\keypoint_classifier.hdf5\n",
            "27/27 [==============================] - 0s 3ms/step - loss: 0.7445 - accuracy: 0.6608 - val_loss: 0.5493 - val_accuracy: 0.7960\n",
            "Epoch 14/1000\n",
            " 1/27 [>.............................] - ETA: 0s - loss: 0.7545 - accuracy: 0.6094\n",
            "Epoch 14: saving model to model/keypoint_classifier\\keypoint_classifier.hdf5\n",
            "27/27 [==============================] - 0s 3ms/step - loss: 0.7308 - accuracy: 0.6683 - val_loss: 0.5247 - val_accuracy: 0.8041\n",
            "Epoch 15/1000\n",
            " 1/27 [>.............................] - ETA: 0s - loss: 0.7171 - accuracy: 0.6719\n",
            "Epoch 15: saving model to model/keypoint_classifier\\keypoint_classifier.hdf5\n",
            "27/27 [==============================] - 0s 3ms/step - loss: 0.7152 - accuracy: 0.6743 - val_loss: 0.5054 - val_accuracy: 0.8149\n",
            "Epoch 16/1000\n",
            " 1/27 [>.............................] - ETA: 0s - loss: 0.6674 - accuracy: 0.6797\n",
            "Epoch 16: saving model to model/keypoint_classifier\\keypoint_classifier.hdf5\n",
            "27/27 [==============================] - 0s 3ms/step - loss: 0.6985 - accuracy: 0.6835 - val_loss: 0.4862 - val_accuracy: 0.8194\n",
            "Epoch 17/1000\n",
            " 1/27 [>.............................] - ETA: 0s - loss: 0.6447 - accuracy: 0.7188\n",
            "Epoch 17: saving model to model/keypoint_classifier\\keypoint_classifier.hdf5\n",
            "27/27 [==============================] - 0s 2ms/step - loss: 0.6865 - accuracy: 0.6940 - val_loss: 0.4723 - val_accuracy: 0.8320\n",
            "Epoch 18/1000\n",
            " 1/27 [>.............................] - ETA: 0s - loss: 0.7037 - accuracy: 0.7188\n",
            "Epoch 18: saving model to model/keypoint_classifier\\keypoint_classifier.hdf5\n",
            "27/27 [==============================] - 0s 3ms/step - loss: 0.6873 - accuracy: 0.6928 - val_loss: 0.4539 - val_accuracy: 0.8464\n",
            "Epoch 19/1000\n",
            " 1/27 [>.............................] - ETA: 0s - loss: 0.7593 - accuracy: 0.6641\n",
            "Epoch 19: saving model to model/keypoint_classifier\\keypoint_classifier.hdf5\n",
            "27/27 [==============================] - 0s 3ms/step - loss: 0.6620 - accuracy: 0.7171 - val_loss: 0.4398 - val_accuracy: 0.8634\n",
            "Epoch 20/1000\n",
            " 1/27 [>.............................] - ETA: 0s - loss: 0.6200 - accuracy: 0.7188\n",
            "Epoch 20: saving model to model/keypoint_classifier\\keypoint_classifier.hdf5\n",
            "27/27 [==============================] - 0s 3ms/step - loss: 0.6507 - accuracy: 0.7222 - val_loss: 0.4279 - val_accuracy: 0.8643\n",
            "Epoch 21/1000\n",
            " 1/27 [>.............................] - ETA: 0s - loss: 0.6511 - accuracy: 0.7031\n",
            "Epoch 21: saving model to model/keypoint_classifier\\keypoint_classifier.hdf5\n",
            "27/27 [==============================] - 0s 3ms/step - loss: 0.6624 - accuracy: 0.7114 - val_loss: 0.4128 - val_accuracy: 0.8814\n",
            "Epoch 22/1000\n",
            " 1/27 [>.............................] - ETA: 0s - loss: 0.6421 - accuracy: 0.6953\n",
            "Epoch 22: saving model to model/keypoint_classifier\\keypoint_classifier.hdf5\n",
            "27/27 [==============================] - 0s 3ms/step - loss: 0.6218 - accuracy: 0.7315 - val_loss: 0.3963 - val_accuracy: 0.8931\n",
            "Epoch 23/1000\n",
            " 1/27 [>.............................] - ETA: 0s - loss: 0.6194 - accuracy: 0.7266\n",
            "Epoch 23: saving model to model/keypoint_classifier\\keypoint_classifier.hdf5\n",
            "27/27 [==============================] - 0s 3ms/step - loss: 0.6463 - accuracy: 0.7210 - val_loss: 0.3870 - val_accuracy: 0.9146\n",
            "Epoch 24/1000\n",
            " 1/27 [>.............................] - ETA: 0s - loss: 0.7745 - accuracy: 0.6797\n",
            "Epoch 24: saving model to model/keypoint_classifier\\keypoint_classifier.hdf5\n",
            "27/27 [==============================] - 0s 3ms/step - loss: 0.6435 - accuracy: 0.7213 - val_loss: 0.3775 - val_accuracy: 0.9254\n",
            "Epoch 25/1000\n",
            " 1/27 [>.............................] - ETA: 0s - loss: 0.5687 - accuracy: 0.7891\n",
            "Epoch 25: saving model to model/keypoint_classifier\\keypoint_classifier.hdf5\n",
            "27/27 [==============================] - 0s 3ms/step - loss: 0.6070 - accuracy: 0.7507 - val_loss: 0.3630 - val_accuracy: 0.9236\n",
            "Epoch 26/1000\n",
            " 1/27 [>.............................] - ETA: 0s - loss: 0.6054 - accuracy: 0.6953\n",
            "Epoch 26: saving model to model/keypoint_classifier\\keypoint_classifier.hdf5\n",
            "27/27 [==============================] - 0s 3ms/step - loss: 0.6111 - accuracy: 0.7396 - val_loss: 0.3508 - val_accuracy: 0.9317\n",
            "Epoch 27/1000\n",
            " 1/27 [>.............................] - ETA: 0s - loss: 0.5946 - accuracy: 0.7188\n",
            "Epoch 27: saving model to model/keypoint_classifier\\keypoint_classifier.hdf5\n",
            "27/27 [==============================] - 0s 3ms/step - loss: 0.5824 - accuracy: 0.7645 - val_loss: 0.3389 - val_accuracy: 0.9308\n",
            "Epoch 28/1000\n",
            " 1/27 [>.............................] - ETA: 0s - loss: 0.5655 - accuracy: 0.7734\n",
            "Epoch 28: saving model to model/keypoint_classifier\\keypoint_classifier.hdf5\n",
            "27/27 [==============================] - 0s 3ms/step - loss: 0.5978 - accuracy: 0.7540 - val_loss: 0.3297 - val_accuracy: 0.9353\n",
            "Epoch 29/1000\n",
            " 1/27 [>.............................] - ETA: 0s - loss: 0.6087 - accuracy: 0.7109\n",
            "Epoch 29: saving model to model/keypoint_classifier\\keypoint_classifier.hdf5\n",
            "27/27 [==============================] - 0s 3ms/step - loss: 0.5927 - accuracy: 0.7546 - val_loss: 0.3236 - val_accuracy: 0.9407\n",
            "Epoch 30/1000\n",
            " 1/27 [>.............................] - ETA: 0s - loss: 0.6841 - accuracy: 0.7266\n",
            "Epoch 30: saving model to model/keypoint_classifier\\keypoint_classifier.hdf5\n",
            "27/27 [==============================] - 0s 3ms/step - loss: 0.5896 - accuracy: 0.7585 - val_loss: 0.3108 - val_accuracy: 0.9425\n",
            "Epoch 31/1000\n",
            " 1/27 [>.............................] - ETA: 0s - loss: 0.6492 - accuracy: 0.7109\n",
            "Epoch 31: saving model to model/keypoint_classifier\\keypoint_classifier.hdf5\n",
            "27/27 [==============================] - 0s 3ms/step - loss: 0.5666 - accuracy: 0.7645 - val_loss: 0.3030 - val_accuracy: 0.9398\n",
            "Epoch 32/1000\n",
            " 1/27 [>.............................] - ETA: 0s - loss: 0.5255 - accuracy: 0.7500\n",
            "Epoch 32: saving model to model/keypoint_classifier\\keypoint_classifier.hdf5\n",
            "27/27 [==============================] - 0s 3ms/step - loss: 0.5532 - accuracy: 0.7749 - val_loss: 0.2917 - val_accuracy: 0.9434\n",
            "Epoch 33/1000\n",
            " 1/27 [>.............................] - ETA: 0s - loss: 0.5077 - accuracy: 0.7656\n",
            "Epoch 33: saving model to model/keypoint_classifier\\keypoint_classifier.hdf5\n",
            "27/27 [==============================] - 0s 3ms/step - loss: 0.5543 - accuracy: 0.7791 - val_loss: 0.2830 - val_accuracy: 0.9506\n",
            "Epoch 34/1000\n",
            " 1/27 [>.............................] - ETA: 0s - loss: 0.5743 - accuracy: 0.7812\n",
            "Epoch 34: saving model to model/keypoint_classifier\\keypoint_classifier.hdf5\n",
            "27/27 [==============================] - 0s 3ms/step - loss: 0.5508 - accuracy: 0.7842 - val_loss: 0.2798 - val_accuracy: 0.9533\n",
            "Epoch 35/1000\n",
            " 1/27 [>.............................] - ETA: 0s - loss: 0.5053 - accuracy: 0.7812\n",
            "Epoch 35: saving model to model/keypoint_classifier\\keypoint_classifier.hdf5\n",
            "27/27 [==============================] - 0s 3ms/step - loss: 0.5475 - accuracy: 0.7821 - val_loss: 0.2679 - val_accuracy: 0.9533\n",
            "Epoch 36/1000\n",
            " 1/27 [>.............................] - ETA: 0s - loss: 0.4584 - accuracy: 0.8203\n",
            "Epoch 36: saving model to model/keypoint_classifier\\keypoint_classifier.hdf5\n",
            "27/27 [==============================] - 0s 3ms/step - loss: 0.5332 - accuracy: 0.7929 - val_loss: 0.2600 - val_accuracy: 0.9533\n",
            "Epoch 37/1000\n",
            " 1/27 [>.............................] - ETA: 0s - loss: 0.5858 - accuracy: 0.7812\n",
            "Epoch 37: saving model to model/keypoint_classifier\\keypoint_classifier.hdf5\n",
            "27/27 [==============================] - 0s 3ms/step - loss: 0.5532 - accuracy: 0.7702 - val_loss: 0.2565 - val_accuracy: 0.9569\n",
            "Epoch 38/1000\n",
            " 1/27 [>.............................] - ETA: 0s - loss: 0.5108 - accuracy: 0.8125\n",
            "Epoch 38: saving model to model/keypoint_classifier\\keypoint_classifier.hdf5\n",
            "27/27 [==============================] - 0s 3ms/step - loss: 0.5388 - accuracy: 0.7857 - val_loss: 0.2531 - val_accuracy: 0.9569\n",
            "Epoch 39/1000\n",
            " 1/27 [>.............................] - ETA: 0s - loss: 0.4731 - accuracy: 0.7891\n",
            "Epoch 39: saving model to model/keypoint_classifier\\keypoint_classifier.hdf5\n",
            "27/27 [==============================] - 0s 3ms/step - loss: 0.5337 - accuracy: 0.7854 - val_loss: 0.2447 - val_accuracy: 0.9551\n",
            "Epoch 40/1000\n",
            " 1/27 [>.............................] - ETA: 0s - loss: 0.5072 - accuracy: 0.7734\n",
            "Epoch 40: saving model to model/keypoint_classifier\\keypoint_classifier.hdf5\n",
            "27/27 [==============================] - 0s 3ms/step - loss: 0.5062 - accuracy: 0.8040 - val_loss: 0.2421 - val_accuracy: 0.9524\n",
            "Epoch 41/1000\n",
            " 1/27 [>.............................] - ETA: 0s - loss: 0.4097 - accuracy: 0.8281\n",
            "Epoch 41: saving model to model/keypoint_classifier\\keypoint_classifier.hdf5\n",
            "27/27 [==============================] - 0s 3ms/step - loss: 0.5142 - accuracy: 0.7914 - val_loss: 0.2384 - val_accuracy: 0.9560\n",
            "Epoch 42/1000\n",
            " 1/27 [>.............................] - ETA: 0s - loss: 0.5275 - accuracy: 0.7891\n",
            "Epoch 42: saving model to model/keypoint_classifier\\keypoint_classifier.hdf5\n",
            "27/27 [==============================] - 0s 3ms/step - loss: 0.5099 - accuracy: 0.7923 - val_loss: 0.2351 - val_accuracy: 0.9569\n",
            "Epoch 43/1000\n",
            " 1/27 [>.............................] - ETA: 0s - loss: 0.4755 - accuracy: 0.8125\n",
            "Epoch 43: saving model to model/keypoint_classifier\\keypoint_classifier.hdf5\n",
            "27/27 [==============================] - 0s 3ms/step - loss: 0.5145 - accuracy: 0.8001 - val_loss: 0.2332 - val_accuracy: 0.9596\n",
            "Epoch 44/1000\n",
            " 1/27 [>.............................] - ETA: 0s - loss: 0.5995 - accuracy: 0.7422\n",
            "Epoch 44: saving model to model/keypoint_classifier\\keypoint_classifier.hdf5\n",
            "27/27 [==============================] - 0s 3ms/step - loss: 0.4970 - accuracy: 0.8010 - val_loss: 0.2283 - val_accuracy: 0.9587\n",
            "Epoch 45/1000\n",
            " 1/27 [>.............................] - ETA: 0s - loss: 0.5090 - accuracy: 0.8281\n",
            "Epoch 45: saving model to model/keypoint_classifier\\keypoint_classifier.hdf5\n",
            "27/27 [==============================] - 0s 3ms/step - loss: 0.5013 - accuracy: 0.8091 - val_loss: 0.2287 - val_accuracy: 0.9515\n",
            "Epoch 46/1000\n",
            " 1/27 [>.............................] - ETA: 0s - loss: 0.4712 - accuracy: 0.7656\n",
            "Epoch 46: saving model to model/keypoint_classifier\\keypoint_classifier.hdf5\n",
            "27/27 [==============================] - 0s 3ms/step - loss: 0.5002 - accuracy: 0.7968 - val_loss: 0.2216 - val_accuracy: 0.9614\n",
            "Epoch 47/1000\n",
            " 1/27 [>.............................] - ETA: 0s - loss: 0.5065 - accuracy: 0.8438\n",
            "Epoch 47: saving model to model/keypoint_classifier\\keypoint_classifier.hdf5\n",
            "27/27 [==============================] - 0s 3ms/step - loss: 0.4923 - accuracy: 0.8097 - val_loss: 0.2227 - val_accuracy: 0.9668\n",
            "Epoch 48/1000\n",
            " 1/27 [>.............................] - ETA: 0s - loss: 0.5076 - accuracy: 0.7969\n",
            "Epoch 48: saving model to model/keypoint_classifier\\keypoint_classifier.hdf5\n",
            "27/27 [==============================] - 0s 3ms/step - loss: 0.4929 - accuracy: 0.8067 - val_loss: 0.2221 - val_accuracy: 0.9668\n",
            "Epoch 49/1000\n",
            " 1/27 [>.............................] - ETA: 0s - loss: 0.4234 - accuracy: 0.8594\n",
            "Epoch 49: saving model to model/keypoint_classifier\\keypoint_classifier.hdf5\n",
            "27/27 [==============================] - 0s 3ms/step - loss: 0.4972 - accuracy: 0.8046 - val_loss: 0.2167 - val_accuracy: 0.9686\n",
            "Epoch 50/1000\n",
            " 1/27 [>.............................] - ETA: 0s - loss: 0.5213 - accuracy: 0.8281\n",
            "Epoch 50: saving model to model/keypoint_classifier\\keypoint_classifier.hdf5\n",
            "27/27 [==============================] - 0s 3ms/step - loss: 0.5131 - accuracy: 0.7962 - val_loss: 0.2180 - val_accuracy: 0.9695\n",
            "Epoch 51/1000\n",
            " 1/27 [>.............................] - ETA: 0s - loss: 0.5289 - accuracy: 0.7656\n",
            "Epoch 51: saving model to model/keypoint_classifier\\keypoint_classifier.hdf5\n",
            "27/27 [==============================] - 0s 3ms/step - loss: 0.4951 - accuracy: 0.8043 - val_loss: 0.2143 - val_accuracy: 0.9623\n",
            "Epoch 52/1000\n",
            " 1/27 [>.............................] - ETA: 0s - loss: 0.3860 - accuracy: 0.8281\n",
            "Epoch 52: saving model to model/keypoint_classifier\\keypoint_classifier.hdf5\n",
            "27/27 [==============================] - 0s 3ms/step - loss: 0.4756 - accuracy: 0.8058 - val_loss: 0.2087 - val_accuracy: 0.9686\n",
            "Epoch 53/1000\n",
            " 1/27 [>.............................] - ETA: 0s - loss: 0.3916 - accuracy: 0.8750\n",
            "Epoch 53: saving model to model/keypoint_classifier\\keypoint_classifier.hdf5\n",
            "27/27 [==============================] - 0s 3ms/step - loss: 0.4785 - accuracy: 0.8076 - val_loss: 0.2006 - val_accuracy: 0.9712\n",
            "Epoch 54/1000\n",
            " 1/27 [>.............................] - ETA: 0s - loss: 0.4768 - accuracy: 0.8438\n",
            "Epoch 54: saving model to model/keypoint_classifier\\keypoint_classifier.hdf5\n",
            "27/27 [==============================] - 0s 3ms/step - loss: 0.4801 - accuracy: 0.8172 - val_loss: 0.2020 - val_accuracy: 0.9686\n",
            "Epoch 55/1000\n",
            " 1/27 [>.............................] - ETA: 0s - loss: 0.5174 - accuracy: 0.7734\n",
            "Epoch 55: saving model to model/keypoint_classifier\\keypoint_classifier.hdf5\n",
            "27/27 [==============================] - 0s 3ms/step - loss: 0.4848 - accuracy: 0.8094 - val_loss: 0.2083 - val_accuracy: 0.9605\n",
            "Epoch 56/1000\n",
            " 1/27 [>.............................] - ETA: 0s - loss: 0.4299 - accuracy: 0.8672\n",
            "Epoch 56: saving model to model/keypoint_classifier\\keypoint_classifier.hdf5\n",
            "27/27 [==============================] - 0s 3ms/step - loss: 0.4568 - accuracy: 0.8247 - val_loss: 0.2003 - val_accuracy: 0.9686\n",
            "Epoch 57/1000\n",
            " 1/27 [>.............................] - ETA: 0s - loss: 0.4337 - accuracy: 0.8438\n",
            "Epoch 57: saving model to model/keypoint_classifier\\keypoint_classifier.hdf5\n",
            "27/27 [==============================] - 0s 3ms/step - loss: 0.4482 - accuracy: 0.8334 - val_loss: 0.1953 - val_accuracy: 0.9686\n",
            "Epoch 58/1000\n",
            " 1/27 [>.............................] - ETA: 0s - loss: 0.4528 - accuracy: 0.8516\n",
            "Epoch 58: saving model to model/keypoint_classifier\\keypoint_classifier.hdf5\n",
            "27/27 [==============================] - 0s 3ms/step - loss: 0.4653 - accuracy: 0.8172 - val_loss: 0.1989 - val_accuracy: 0.9650\n",
            "Epoch 59/1000\n",
            " 1/27 [>.............................] - ETA: 0s - loss: 0.4568 - accuracy: 0.8281\n",
            "Epoch 59: saving model to model/keypoint_classifier\\keypoint_classifier.hdf5\n",
            "27/27 [==============================] - 0s 3ms/step - loss: 0.4704 - accuracy: 0.8223 - val_loss: 0.1972 - val_accuracy: 0.9659\n",
            "Epoch 60/1000\n",
            " 1/27 [>.............................] - ETA: 0s - loss: 0.5219 - accuracy: 0.8125\n",
            "Epoch 60: saving model to model/keypoint_classifier\\keypoint_classifier.hdf5\n",
            "27/27 [==============================] - 0s 3ms/step - loss: 0.4558 - accuracy: 0.8151 - val_loss: 0.1998 - val_accuracy: 0.9632\n",
            "Epoch 61/1000\n",
            " 1/27 [>.............................] - ETA: 0s - loss: 0.3462 - accuracy: 0.8594\n",
            "Epoch 61: saving model to model/keypoint_classifier\\keypoint_classifier.hdf5\n",
            "27/27 [==============================] - 0s 3ms/step - loss: 0.4664 - accuracy: 0.8166 - val_loss: 0.1966 - val_accuracy: 0.9605\n",
            "Epoch 62/1000\n",
            " 1/27 [>.............................] - ETA: 0s - loss: 0.4611 - accuracy: 0.7891\n",
            "Epoch 62: saving model to model/keypoint_classifier\\keypoint_classifier.hdf5\n",
            "27/27 [==============================] - 0s 3ms/step - loss: 0.4624 - accuracy: 0.8214 - val_loss: 0.2002 - val_accuracy: 0.9596\n",
            "Epoch 63/1000\n",
            " 1/27 [>.............................] - ETA: 0s - loss: 0.5353 - accuracy: 0.8281\n",
            "Epoch 63: saving model to model/keypoint_classifier\\keypoint_classifier.hdf5\n",
            "27/27 [==============================] - 0s 3ms/step - loss: 0.4537 - accuracy: 0.8256 - val_loss: 0.1924 - val_accuracy: 0.9668\n",
            "Epoch 64/1000\n",
            " 1/27 [>.............................] - ETA: 0s - loss: 0.4971 - accuracy: 0.7656\n",
            "Epoch 64: saving model to model/keypoint_classifier\\keypoint_classifier.hdf5\n",
            "27/27 [==============================] - 0s 3ms/step - loss: 0.4674 - accuracy: 0.8184 - val_loss: 0.1922 - val_accuracy: 0.9650\n",
            "Epoch 65/1000\n",
            " 1/27 [>.............................] - ETA: 0s - loss: 0.5524 - accuracy: 0.7891\n",
            "Epoch 65: saving model to model/keypoint_classifier\\keypoint_classifier.hdf5\n",
            "27/27 [==============================] - 0s 3ms/step - loss: 0.4658 - accuracy: 0.8223 - val_loss: 0.1949 - val_accuracy: 0.9650\n",
            "Epoch 66/1000\n",
            " 1/27 [>.............................] - ETA: 0s - loss: 0.4769 - accuracy: 0.7891\n",
            "Epoch 66: saving model to model/keypoint_classifier\\keypoint_classifier.hdf5\n",
            "27/27 [==============================] - 0s 3ms/step - loss: 0.4738 - accuracy: 0.8160 - val_loss: 0.1948 - val_accuracy: 0.9721\n",
            "Epoch 67/1000\n",
            " 1/27 [>.............................] - ETA: 0s - loss: 0.5683 - accuracy: 0.7891\n",
            "Epoch 67: saving model to model/keypoint_classifier\\keypoint_classifier.hdf5\n",
            "27/27 [==============================] - 0s 3ms/step - loss: 0.4333 - accuracy: 0.8352 - val_loss: 0.1866 - val_accuracy: 0.9686\n",
            "Epoch 68/1000\n",
            " 1/27 [>.............................] - ETA: 0s - loss: 0.4993 - accuracy: 0.7891\n",
            "Epoch 68: saving model to model/keypoint_classifier\\keypoint_classifier.hdf5\n",
            "27/27 [==============================] - 0s 3ms/step - loss: 0.4332 - accuracy: 0.8352 - val_loss: 0.1834 - val_accuracy: 0.9668\n",
            "Epoch 69/1000\n",
            " 1/27 [>.............................] - ETA: 0s - loss: 0.3407 - accuracy: 0.8750\n",
            "Epoch 69: saving model to model/keypoint_classifier\\keypoint_classifier.hdf5\n",
            "27/27 [==============================] - 0s 3ms/step - loss: 0.4514 - accuracy: 0.8268 - val_loss: 0.1834 - val_accuracy: 0.9695\n",
            "Epoch 70/1000\n",
            " 1/27 [>.............................] - ETA: 0s - loss: 0.4228 - accuracy: 0.8281\n",
            "Epoch 70: saving model to model/keypoint_classifier\\keypoint_classifier.hdf5\n",
            "27/27 [==============================] - 0s 3ms/step - loss: 0.4615 - accuracy: 0.8232 - val_loss: 0.1881 - val_accuracy: 0.9632\n",
            "Epoch 71/1000\n",
            " 1/27 [>.............................] - ETA: 0s - loss: 0.6342 - accuracy: 0.7500\n",
            "Epoch 71: saving model to model/keypoint_classifier\\keypoint_classifier.hdf5\n",
            "27/27 [==============================] - 0s 3ms/step - loss: 0.4488 - accuracy: 0.8280 - val_loss: 0.1890 - val_accuracy: 0.9650\n",
            "Epoch 72/1000\n",
            " 1/27 [>.............................] - ETA: 0s - loss: 0.3894 - accuracy: 0.8359\n",
            "Epoch 72: saving model to model/keypoint_classifier\\keypoint_classifier.hdf5\n",
            "27/27 [==============================] - 0s 3ms/step - loss: 0.4464 - accuracy: 0.8265 - val_loss: 0.1847 - val_accuracy: 0.9650\n",
            "Epoch 73/1000\n",
            " 1/27 [>.............................] - ETA: 0s - loss: 0.4623 - accuracy: 0.8438\n",
            "Epoch 73: saving model to model/keypoint_classifier\\keypoint_classifier.hdf5\n",
            "27/27 [==============================] - 0s 3ms/step - loss: 0.4399 - accuracy: 0.8313 - val_loss: 0.1869 - val_accuracy: 0.9641\n",
            "Epoch 74/1000\n",
            " 1/27 [>.............................] - ETA: 0s - loss: 0.6076 - accuracy: 0.7422\n",
            "Epoch 74: saving model to model/keypoint_classifier\\keypoint_classifier.hdf5\n",
            "27/27 [==============================] - 0s 3ms/step - loss: 0.4231 - accuracy: 0.8349 - val_loss: 0.1842 - val_accuracy: 0.9695\n",
            "Epoch 75/1000\n",
            " 1/27 [>.............................] - ETA: 0s - loss: 0.2786 - accuracy: 0.9141\n",
            "Epoch 75: saving model to model/keypoint_classifier\\keypoint_classifier.hdf5\n",
            "27/27 [==============================] - 0s 3ms/step - loss: 0.4263 - accuracy: 0.8394 - val_loss: 0.1776 - val_accuracy: 0.9686\n",
            "Epoch 76/1000\n",
            " 1/27 [>.............................] - ETA: 0s - loss: 0.4638 - accuracy: 0.8047\n",
            "Epoch 76: saving model to model/keypoint_classifier\\keypoint_classifier.hdf5\n",
            "27/27 [==============================] - 0s 3ms/step - loss: 0.4600 - accuracy: 0.8202 - val_loss: 0.1822 - val_accuracy: 0.9641\n",
            "Epoch 77/1000\n",
            " 1/27 [>.............................] - ETA: 0s - loss: 0.4127 - accuracy: 0.8438\n",
            "Epoch 77: saving model to model/keypoint_classifier\\keypoint_classifier.hdf5\n",
            "27/27 [==============================] - 0s 3ms/step - loss: 0.4066 - accuracy: 0.8439 - val_loss: 0.1813 - val_accuracy: 0.9641\n",
            "Epoch 78/1000\n",
            " 1/27 [>.............................] - ETA: 0s - loss: 0.4409 - accuracy: 0.8281\n",
            "Epoch 78: saving model to model/keypoint_classifier\\keypoint_classifier.hdf5\n",
            "27/27 [==============================] - 0s 3ms/step - loss: 0.4348 - accuracy: 0.8343 - val_loss: 0.1755 - val_accuracy: 0.9704\n",
            "Epoch 79/1000\n",
            " 1/27 [>.............................] - ETA: 0s - loss: 0.4020 - accuracy: 0.8438\n",
            "Epoch 79: saving model to model/keypoint_classifier\\keypoint_classifier.hdf5\n",
            "27/27 [==============================] - 0s 3ms/step - loss: 0.4242 - accuracy: 0.8337 - val_loss: 0.1740 - val_accuracy: 0.9730\n",
            "Epoch 80/1000\n",
            " 1/27 [>.............................] - ETA: 0s - loss: 0.5030 - accuracy: 0.7891\n",
            "Epoch 80: saving model to model/keypoint_classifier\\keypoint_classifier.hdf5\n",
            "27/27 [==============================] - 0s 3ms/step - loss: 0.4587 - accuracy: 0.8247 - val_loss: 0.1802 - val_accuracy: 0.9677\n",
            "Epoch 81/1000\n",
            " 1/27 [>.............................] - ETA: 0s - loss: 0.3705 - accuracy: 0.8359\n",
            "Epoch 81: saving model to model/keypoint_classifier\\keypoint_classifier.hdf5\n",
            "27/27 [==============================] - 0s 3ms/step - loss: 0.4144 - accuracy: 0.8499 - val_loss: 0.1779 - val_accuracy: 0.9695\n",
            "Epoch 82/1000\n",
            " 1/27 [>.............................] - ETA: 0s - loss: 0.3668 - accuracy: 0.8984\n",
            "Epoch 82: saving model to model/keypoint_classifier\\keypoint_classifier.hdf5\n",
            "27/27 [==============================] - 0s 3ms/step - loss: 0.4312 - accuracy: 0.8325 - val_loss: 0.1762 - val_accuracy: 0.9677\n",
            "Epoch 83/1000\n",
            " 1/27 [>.............................] - ETA: 0s - loss: 0.5275 - accuracy: 0.8281\n",
            "Epoch 83: saving model to model/keypoint_classifier\\keypoint_classifier.hdf5\n",
            "27/27 [==============================] - 0s 3ms/step - loss: 0.4218 - accuracy: 0.8274 - val_loss: 0.1756 - val_accuracy: 0.9686\n",
            "Epoch 84/1000\n",
            " 1/27 [>.............................] - ETA: 0s - loss: 0.3762 - accuracy: 0.8594\n",
            "Epoch 84: saving model to model/keypoint_classifier\\keypoint_classifier.hdf5\n",
            "27/27 [==============================] - 0s 3ms/step - loss: 0.4166 - accuracy: 0.8355 - val_loss: 0.1748 - val_accuracy: 0.9686\n",
            "Epoch 85/1000\n",
            " 1/27 [>.............................] - ETA: 0s - loss: 0.4694 - accuracy: 0.7891\n",
            "Epoch 85: saving model to model/keypoint_classifier\\keypoint_classifier.hdf5\n",
            "27/27 [==============================] - 0s 3ms/step - loss: 0.4391 - accuracy: 0.8247 - val_loss: 0.1812 - val_accuracy: 0.9686\n",
            "Epoch 86/1000\n",
            " 1/27 [>.............................] - ETA: 0s - loss: 0.2927 - accuracy: 0.9141\n",
            "Epoch 86: saving model to model/keypoint_classifier\\keypoint_classifier.hdf5\n",
            "27/27 [==============================] - 0s 3ms/step - loss: 0.4139 - accuracy: 0.8418 - val_loss: 0.1850 - val_accuracy: 0.9623\n",
            "Epoch 87/1000\n",
            " 1/27 [>.............................] - ETA: 0s - loss: 0.5227 - accuracy: 0.7969\n",
            "Epoch 87: saving model to model/keypoint_classifier\\keypoint_classifier.hdf5\n",
            "27/27 [==============================] - 0s 3ms/step - loss: 0.4209 - accuracy: 0.8397 - val_loss: 0.1767 - val_accuracy: 0.9641\n",
            "Epoch 88/1000\n",
            " 1/27 [>.............................] - ETA: 0s - loss: 0.4179 - accuracy: 0.8203\n",
            "Epoch 88: saving model to model/keypoint_classifier\\keypoint_classifier.hdf5\n",
            "27/27 [==============================] - 0s 3ms/step - loss: 0.4237 - accuracy: 0.8256 - val_loss: 0.1780 - val_accuracy: 0.9668\n",
            "Epoch 89/1000\n",
            " 1/27 [>.............................] - ETA: 0s - loss: 0.4165 - accuracy: 0.8203\n",
            "Epoch 89: saving model to model/keypoint_classifier\\keypoint_classifier.hdf5\n",
            "27/27 [==============================] - 0s 3ms/step - loss: 0.4269 - accuracy: 0.8352 - val_loss: 0.1734 - val_accuracy: 0.9739\n",
            "Epoch 90/1000\n",
            " 1/27 [>.............................] - ETA: 0s - loss: 0.4133 - accuracy: 0.8438\n",
            "Epoch 90: saving model to model/keypoint_classifier\\keypoint_classifier.hdf5\n",
            "27/27 [==============================] - 0s 3ms/step - loss: 0.4248 - accuracy: 0.8421 - val_loss: 0.1714 - val_accuracy: 0.9668\n",
            "Epoch 91/1000\n",
            " 1/27 [>.............................] - ETA: 0s - loss: 0.4657 - accuracy: 0.7891\n",
            "Epoch 91: saving model to model/keypoint_classifier\\keypoint_classifier.hdf5\n",
            "27/27 [==============================] - 0s 3ms/step - loss: 0.4250 - accuracy: 0.8361 - val_loss: 0.1720 - val_accuracy: 0.9695\n",
            "Epoch 92/1000\n",
            " 1/27 [>.............................] - ETA: 0s - loss: 0.4116 - accuracy: 0.8438\n",
            "Epoch 92: saving model to model/keypoint_classifier\\keypoint_classifier.hdf5\n",
            "27/27 [==============================] - 0s 3ms/step - loss: 0.4126 - accuracy: 0.8418 - val_loss: 0.1720 - val_accuracy: 0.9668\n",
            "Epoch 93/1000\n",
            " 1/27 [>.............................] - ETA: 0s - loss: 0.5264 - accuracy: 0.7734\n",
            "Epoch 93: saving model to model/keypoint_classifier\\keypoint_classifier.hdf5\n",
            "27/27 [==============================] - 0s 3ms/step - loss: 0.4148 - accuracy: 0.8394 - val_loss: 0.1744 - val_accuracy: 0.9704\n",
            "Epoch 94/1000\n",
            " 1/27 [>.............................] - ETA: 0s - loss: 0.4122 - accuracy: 0.8516\n",
            "Epoch 94: saving model to model/keypoint_classifier\\keypoint_classifier.hdf5\n",
            "27/27 [==============================] - 0s 3ms/step - loss: 0.4191 - accuracy: 0.8364 - val_loss: 0.1721 - val_accuracy: 0.9712\n",
            "Epoch 95/1000\n",
            " 1/27 [>.............................] - ETA: 0s - loss: 0.4371 - accuracy: 0.8359\n",
            "Epoch 95: saving model to model/keypoint_classifier\\keypoint_classifier.hdf5\n",
            "27/27 [==============================] - 0s 3ms/step - loss: 0.4263 - accuracy: 0.8391 - val_loss: 0.1743 - val_accuracy: 0.9721\n",
            "Epoch 96/1000\n",
            " 1/27 [>.............................] - ETA: 0s - loss: 0.4525 - accuracy: 0.8203\n",
            "Epoch 96: saving model to model/keypoint_classifier\\keypoint_classifier.hdf5\n",
            "27/27 [==============================] - 0s 3ms/step - loss: 0.4125 - accuracy: 0.8394 - val_loss: 0.1731 - val_accuracy: 0.9686\n",
            "Epoch 97/1000\n",
            " 1/27 [>.............................] - ETA: 0s - loss: 0.3168 - accuracy: 0.8984\n",
            "Epoch 97: saving model to model/keypoint_classifier\\keypoint_classifier.hdf5\n",
            "27/27 [==============================] - 0s 3ms/step - loss: 0.4065 - accuracy: 0.8466 - val_loss: 0.1681 - val_accuracy: 0.9739\n",
            "Epoch 98/1000\n",
            " 1/27 [>.............................] - ETA: 0s - loss: 0.3591 - accuracy: 0.8750\n",
            "Epoch 98: saving model to model/keypoint_classifier\\keypoint_classifier.hdf5\n",
            "27/27 [==============================] - 0s 3ms/step - loss: 0.4023 - accuracy: 0.8514 - val_loss: 0.1666 - val_accuracy: 0.9721\n",
            "Epoch 99/1000\n",
            " 1/27 [>.............................] - ETA: 0s - loss: 0.4673 - accuracy: 0.8125\n",
            "Epoch 99: saving model to model/keypoint_classifier\\keypoint_classifier.hdf5\n",
            "27/27 [==============================] - 0s 3ms/step - loss: 0.4019 - accuracy: 0.8472 - val_loss: 0.1681 - val_accuracy: 0.9686\n",
            "Epoch 100/1000\n",
            " 1/27 [>.............................] - ETA: 0s - loss: 0.4478 - accuracy: 0.8281\n",
            "Epoch 100: saving model to model/keypoint_classifier\\keypoint_classifier.hdf5\n",
            "27/27 [==============================] - 0s 3ms/step - loss: 0.4253 - accuracy: 0.8301 - val_loss: 0.1695 - val_accuracy: 0.9686\n",
            "Epoch 101/1000\n",
            " 1/27 [>.............................] - ETA: 0s - loss: 0.3295 - accuracy: 0.8594\n",
            "Epoch 101: saving model to model/keypoint_classifier\\keypoint_classifier.hdf5\n",
            "27/27 [==============================] - 0s 3ms/step - loss: 0.4014 - accuracy: 0.8448 - val_loss: 0.1655 - val_accuracy: 0.9730\n",
            "Epoch 102/1000\n",
            " 1/27 [>.............................] - ETA: 0s - loss: 0.3866 - accuracy: 0.8438\n",
            "Epoch 102: saving model to model/keypoint_classifier\\keypoint_classifier.hdf5\n",
            "27/27 [==============================] - 0s 3ms/step - loss: 0.4007 - accuracy: 0.8475 - val_loss: 0.1731 - val_accuracy: 0.9596\n",
            "Epoch 103/1000\n",
            " 1/27 [>.............................] - ETA: 0s - loss: 0.3809 - accuracy: 0.8594\n",
            "Epoch 103: saving model to model/keypoint_classifier\\keypoint_classifier.hdf5\n",
            "27/27 [==============================] - 0s 3ms/step - loss: 0.3999 - accuracy: 0.8475 - val_loss: 0.1727 - val_accuracy: 0.9659\n",
            "Epoch 104/1000\n",
            " 1/27 [>.............................] - ETA: 0s - loss: 0.3565 - accuracy: 0.8516\n",
            "Epoch 104: saving model to model/keypoint_classifier\\keypoint_classifier.hdf5\n",
            "27/27 [==============================] - 0s 3ms/step - loss: 0.4024 - accuracy: 0.8442 - val_loss: 0.1656 - val_accuracy: 0.9739\n",
            "Epoch 105/1000\n",
            " 1/27 [>.............................] - ETA: 0s - loss: 0.3952 - accuracy: 0.8438\n",
            "Epoch 105: saving model to model/keypoint_classifier\\keypoint_classifier.hdf5\n",
            "27/27 [==============================] - 0s 3ms/step - loss: 0.4136 - accuracy: 0.8415 - val_loss: 0.1689 - val_accuracy: 0.9730\n",
            "Epoch 106/1000\n",
            " 1/27 [>.............................] - ETA: 0s - loss: 0.5054 - accuracy: 0.8125\n",
            "Epoch 106: saving model to model/keypoint_classifier\\keypoint_classifier.hdf5\n",
            "27/27 [==============================] - 0s 3ms/step - loss: 0.3909 - accuracy: 0.8523 - val_loss: 0.1785 - val_accuracy: 0.9605\n",
            "Epoch 107/1000\n",
            " 1/27 [>.............................] - ETA: 0s - loss: 0.4684 - accuracy: 0.8281\n",
            "Epoch 107: saving model to model/keypoint_classifier\\keypoint_classifier.hdf5\n",
            "27/27 [==============================] - 0s 3ms/step - loss: 0.3907 - accuracy: 0.8499 - val_loss: 0.1660 - val_accuracy: 0.9659\n",
            "Epoch 108/1000\n",
            " 1/27 [>.............................] - ETA: 0s - loss: 0.4118 - accuracy: 0.8516\n",
            "Epoch 108: saving model to model/keypoint_classifier\\keypoint_classifier.hdf5\n",
            "27/27 [==============================] - 0s 3ms/step - loss: 0.4037 - accuracy: 0.8394 - val_loss: 0.1646 - val_accuracy: 0.9748\n",
            "Epoch 109/1000\n",
            " 1/27 [>.............................] - ETA: 0s - loss: 0.3114 - accuracy: 0.8594\n",
            "Epoch 109: saving model to model/keypoint_classifier\\keypoint_classifier.hdf5\n",
            "27/27 [==============================] - 0s 3ms/step - loss: 0.3938 - accuracy: 0.8559 - val_loss: 0.1710 - val_accuracy: 0.9677\n",
            "Epoch 110/1000\n",
            " 1/27 [>.............................] - ETA: 0s - loss: 0.3508 - accuracy: 0.8438\n",
            "Epoch 110: saving model to model/keypoint_classifier\\keypoint_classifier.hdf5\n",
            "27/27 [==============================] - 0s 3ms/step - loss: 0.3923 - accuracy: 0.8541 - val_loss: 0.1681 - val_accuracy: 0.9739\n",
            "Epoch 111/1000\n",
            " 1/27 [>.............................] - ETA: 0s - loss: 0.4274 - accuracy: 0.8281\n",
            "Epoch 111: saving model to model/keypoint_classifier\\keypoint_classifier.hdf5\n",
            "27/27 [==============================] - 0s 3ms/step - loss: 0.4149 - accuracy: 0.8382 - val_loss: 0.1652 - val_accuracy: 0.9766\n",
            "Epoch 112/1000\n",
            " 1/27 [>.............................] - ETA: 0s - loss: 0.4716 - accuracy: 0.8203\n",
            "Epoch 112: saving model to model/keypoint_classifier\\keypoint_classifier.hdf5\n",
            "27/27 [==============================] - 0s 3ms/step - loss: 0.3896 - accuracy: 0.8586 - val_loss: 0.1674 - val_accuracy: 0.9757\n",
            "Epoch 113/1000\n",
            " 1/27 [>.............................] - ETA: 0s - loss: 0.4185 - accuracy: 0.8203\n",
            "Epoch 113: saving model to model/keypoint_classifier\\keypoint_classifier.hdf5\n",
            "27/27 [==============================] - 0s 3ms/step - loss: 0.4076 - accuracy: 0.8412 - val_loss: 0.1714 - val_accuracy: 0.9739\n",
            "Epoch 114/1000\n",
            " 1/27 [>.............................] - ETA: 0s - loss: 0.3159 - accuracy: 0.8906\n",
            "Epoch 114: saving model to model/keypoint_classifier\\keypoint_classifier.hdf5\n",
            "27/27 [==============================] - 0s 3ms/step - loss: 0.3796 - accuracy: 0.8616 - val_loss: 0.1658 - val_accuracy: 0.9677\n",
            "Epoch 115/1000\n",
            " 1/27 [>.............................] - ETA: 0s - loss: 0.3245 - accuracy: 0.8906\n",
            "Epoch 115: saving model to model/keypoint_classifier\\keypoint_classifier.hdf5\n",
            "27/27 [==============================] - 0s 3ms/step - loss: 0.4045 - accuracy: 0.8400 - val_loss: 0.1593 - val_accuracy: 0.9757\n",
            "Epoch 116/1000\n",
            " 1/27 [>.............................] - ETA: 0s - loss: 0.3285 - accuracy: 0.8594\n",
            "Epoch 116: saving model to model/keypoint_classifier\\keypoint_classifier.hdf5\n",
            "27/27 [==============================] - 0s 3ms/step - loss: 0.4102 - accuracy: 0.8421 - val_loss: 0.1657 - val_accuracy: 0.9712\n",
            "Epoch 117/1000\n",
            " 1/27 [>.............................] - ETA: 0s - loss: 0.4739 - accuracy: 0.8047\n",
            "Epoch 117: saving model to model/keypoint_classifier\\keypoint_classifier.hdf5\n",
            "27/27 [==============================] - 0s 3ms/step - loss: 0.4069 - accuracy: 0.8415 - val_loss: 0.1728 - val_accuracy: 0.9677\n",
            "Epoch 118/1000\n",
            " 1/27 [>.............................] - ETA: 0s - loss: 0.4086 - accuracy: 0.8203\n",
            "Epoch 118: saving model to model/keypoint_classifier\\keypoint_classifier.hdf5\n",
            "27/27 [==============================] - 0s 3ms/step - loss: 0.4012 - accuracy: 0.8454 - val_loss: 0.1676 - val_accuracy: 0.9739\n",
            "Epoch 119/1000\n",
            " 1/27 [>.............................] - ETA: 0s - loss: 0.4810 - accuracy: 0.8125\n",
            "Epoch 119: saving model to model/keypoint_classifier\\keypoint_classifier.hdf5\n",
            "27/27 [==============================] - 0s 3ms/step - loss: 0.4093 - accuracy: 0.8514 - val_loss: 0.1748 - val_accuracy: 0.9632\n",
            "Epoch 120/1000\n",
            " 1/27 [>.............................] - ETA: 0s - loss: 0.4952 - accuracy: 0.8203\n",
            "Epoch 120: saving model to model/keypoint_classifier\\keypoint_classifier.hdf5\n",
            "27/27 [==============================] - 0s 3ms/step - loss: 0.3981 - accuracy: 0.8490 - val_loss: 0.1733 - val_accuracy: 0.9659\n",
            "Epoch 121/1000\n",
            " 1/27 [>.............................] - ETA: 0s - loss: 0.4975 - accuracy: 0.8359\n",
            "Epoch 121: saving model to model/keypoint_classifier\\keypoint_classifier.hdf5\n",
            "27/27 [==============================] - 0s 3ms/step - loss: 0.3869 - accuracy: 0.8511 - val_loss: 0.1692 - val_accuracy: 0.9668\n",
            "Epoch 122/1000\n",
            " 1/27 [>.............................] - ETA: 0s - loss: 0.3560 - accuracy: 0.8203\n",
            "Epoch 122: saving model to model/keypoint_classifier\\keypoint_classifier.hdf5\n",
            "27/27 [==============================] - 0s 3ms/step - loss: 0.3938 - accuracy: 0.8490 - val_loss: 0.1655 - val_accuracy: 0.9766\n",
            "Epoch 123/1000\n",
            " 1/27 [>.............................] - ETA: 0s - loss: 0.3670 - accuracy: 0.8672\n",
            "Epoch 123: saving model to model/keypoint_classifier\\keypoint_classifier.hdf5\n",
            "27/27 [==============================] - 0s 3ms/step - loss: 0.3931 - accuracy: 0.8553 - val_loss: 0.1696 - val_accuracy: 0.9712\n",
            "Epoch 124/1000\n",
            " 1/27 [>.............................] - ETA: 0s - loss: 0.3356 - accuracy: 0.8750\n",
            "Epoch 124: saving model to model/keypoint_classifier\\keypoint_classifier.hdf5\n",
            "27/27 [==============================] - 0s 3ms/step - loss: 0.3769 - accuracy: 0.8562 - val_loss: 0.1735 - val_accuracy: 0.9668\n",
            "Epoch 125/1000\n",
            " 1/27 [>.............................] - ETA: 0s - loss: 0.3282 - accuracy: 0.8828\n",
            "Epoch 125: saving model to model/keypoint_classifier\\keypoint_classifier.hdf5\n",
            "27/27 [==============================] - 0s 3ms/step - loss: 0.3921 - accuracy: 0.8574 - val_loss: 0.1685 - val_accuracy: 0.9721\n",
            "Epoch 126/1000\n",
            " 1/27 [>.............................] - ETA: 0s - loss: 0.2755 - accuracy: 0.9219\n",
            "Epoch 126: saving model to model/keypoint_classifier\\keypoint_classifier.hdf5\n",
            "27/27 [==============================] - 0s 3ms/step - loss: 0.3864 - accuracy: 0.8517 - val_loss: 0.1665 - val_accuracy: 0.9766\n",
            "Epoch 127/1000\n",
            " 1/27 [>.............................] - ETA: 0s - loss: 0.3406 - accuracy: 0.8984\n",
            "Epoch 127: saving model to model/keypoint_classifier\\keypoint_classifier.hdf5\n",
            "27/27 [==============================] - 0s 3ms/step - loss: 0.3935 - accuracy: 0.8577 - val_loss: 0.1704 - val_accuracy: 0.9721\n",
            "Epoch 128/1000\n",
            " 1/27 [>.............................] - ETA: 0s - loss: 0.4059 - accuracy: 0.8359\n",
            "Epoch 128: saving model to model/keypoint_classifier\\keypoint_classifier.hdf5\n",
            "27/27 [==============================] - 0s 3ms/step - loss: 0.3812 - accuracy: 0.8568 - val_loss: 0.1689 - val_accuracy: 0.9721\n",
            "Epoch 129/1000\n",
            " 1/27 [>.............................] - ETA: 0s - loss: 0.5135 - accuracy: 0.8047\n",
            "Epoch 129: saving model to model/keypoint_classifier\\keypoint_classifier.hdf5\n",
            "27/27 [==============================] - 0s 3ms/step - loss: 0.3983 - accuracy: 0.8433 - val_loss: 0.1660 - val_accuracy: 0.9757\n",
            "Epoch 130/1000\n",
            " 1/27 [>.............................] - ETA: 0s - loss: 0.3944 - accuracy: 0.8594\n",
            "Epoch 130: saving model to model/keypoint_classifier\\keypoint_classifier.hdf5\n",
            "27/27 [==============================] - 0s 3ms/step - loss: 0.4045 - accuracy: 0.8493 - val_loss: 0.1697 - val_accuracy: 0.9695\n",
            "Epoch 131/1000\n",
            " 1/27 [>.............................] - ETA: 0s - loss: 0.3394 - accuracy: 0.8750\n",
            "Epoch 131: saving model to model/keypoint_classifier\\keypoint_classifier.hdf5\n",
            "27/27 [==============================] - 0s 3ms/step - loss: 0.3839 - accuracy: 0.8586 - val_loss: 0.1706 - val_accuracy: 0.9730\n",
            "Epoch 132/1000\n",
            " 1/27 [>.............................] - ETA: 0s - loss: 0.4190 - accuracy: 0.8438\n",
            "Epoch 132: saving model to model/keypoint_classifier\\keypoint_classifier.hdf5\n",
            "27/27 [==============================] - 0s 3ms/step - loss: 0.3857 - accuracy: 0.8648 - val_loss: 0.1678 - val_accuracy: 0.9712\n",
            "Epoch 133/1000\n",
            " 1/27 [>.............................] - ETA: 0s - loss: 0.2849 - accuracy: 0.9062\n",
            "Epoch 133: saving model to model/keypoint_classifier\\keypoint_classifier.hdf5\n",
            "27/27 [==============================] - 0s 3ms/step - loss: 0.3675 - accuracy: 0.8631 - val_loss: 0.1623 - val_accuracy: 0.9730\n",
            "Epoch 134/1000\n",
            " 1/27 [>.............................] - ETA: 0s - loss: 0.4096 - accuracy: 0.8281\n",
            "Epoch 134: saving model to model/keypoint_classifier\\keypoint_classifier.hdf5\n",
            "27/27 [==============================] - 0s 3ms/step - loss: 0.3762 - accuracy: 0.8610 - val_loss: 0.1674 - val_accuracy: 0.9730\n",
            "Epoch 135/1000\n",
            " 1/27 [>.............................] - ETA: 0s - loss: 0.4307 - accuracy: 0.8281\n",
            "Epoch 135: saving model to model/keypoint_classifier\\keypoint_classifier.hdf5\n",
            "27/27 [==============================] - 0s 3ms/step - loss: 0.3819 - accuracy: 0.8529 - val_loss: 0.1627 - val_accuracy: 0.9730\n",
            "Epoch 135: early stopping\n"
          ]
        },
        {
          "data": {
            "text/plain": [
              "<keras.callbacks.History at 0x2051279a640>"
            ]
          },
          "execution_count": 33,
          "metadata": {},
          "output_type": "execute_result"
        }
      ],
      "source": [
        "model.fit(\n",
        "    X_train,\n",
        "    y_train,\n",
        "    epochs=1000,\n",
        "    batch_size=128,\n",
        "    validation_data=(X_test, y_test),\n",
        "    callbacks=[cp_callback, es_callback]\n",
        ")"
      ]
    },
    {
      "cell_type": "code",
      "execution_count": 34,
      "metadata": {
        "colab": {
          "base_uri": "https://localhost:8080/"
        },
        "id": "pxvb2Y299hE3",
        "outputId": "59eb3185-2e37-4b9e-bc9d-ab1b8ac29b7f"
      },
      "outputs": [
        {
          "name": "stdout",
          "output_type": "stream",
          "text": [
            "9/9 [==============================] - 0s 997us/step - loss: 0.1627 - accuracy: 0.9730\n"
          ]
        }
      ],
      "source": [
        "# Model evaluation\n",
        "val_loss, val_acc = model.evaluate(X_test, y_test, batch_size=128)"
      ]
    },
    {
      "cell_type": "code",
      "execution_count": 35,
      "metadata": {
        "id": "RBkmDeUW9hE4"
      },
      "outputs": [],
      "source": [
        "# Loading the saved model\n",
        "model = tf.keras.models.load_model(model_save_path)"
      ]
    },
    {
      "cell_type": "code",
      "execution_count": 36,
      "metadata": {
        "colab": {
          "base_uri": "https://localhost:8080/"
        },
        "id": "tFz9Tb0I9hE4",
        "outputId": "1c3b3528-54ae-4ee2-ab04-77429211cbef"
      },
      "outputs": [
        {
          "name": "stdout",
          "output_type": "stream",
          "text": [
            "1/1 [==============================] - 0s 43ms/step\n",
            "[0.80017304 0.16061305 0.03921385]\n",
            "0\n"
          ]
        }
      ],
      "source": [
        "# Inference test\n",
        "predict_result = model.predict(np.array([X_test[0]]))\n",
        "print(np.squeeze(predict_result))\n",
        "print(np.argmax(np.squeeze(predict_result)))"
      ]
    },
    {
      "cell_type": "markdown",
      "metadata": {
        "id": "S3U4yNWx9hE4"
      },
      "source": [
        "# Confusion matrix"
      ]
    },
    {
      "cell_type": "code",
      "execution_count": 37,
      "metadata": {
        "colab": {
          "base_uri": "https://localhost:8080/",
          "height": 582
        },
        "id": "AP1V6SCk9hE5",
        "outputId": "08e41a80-7a4a-4619-8125-ecc371368d19"
      },
      "outputs": [
        {
          "name": "stdout",
          "output_type": "stream",
          "text": [
            "35/35 [==============================] - 0s 733us/step\n"
          ]
        },
        {
          "data": {
            "image/png": "[encoded data removed]",
            "text/plain": [
              "<Figure size 700x600 with 2 Axes>"
            ]
          },
          "metadata": {},
          "output_type": "display_data"
        },
        {
          "name": "stdout",
          "output_type": "stream",
          "text": [
            "Classification Report\n",
            "              precision    recall  f1-score   support\n",
            "\n",
            "           0       1.00      0.98      0.99       410\n",
            "           1       0.97      0.96      0.96       385\n",
            "           2       0.95      0.98      0.96       318\n",
            "\n",
            "    accuracy                           0.97      1113\n",
            "   macro avg       0.97      0.97      0.97      1113\n",
            "weighted avg       0.97      0.97      0.97      1113\n",
            "\n"
          ]
        }
      ],
      "source": [
        "import pandas as pd\n",
        "import seaborn as sns\n",
        "import matplotlib.pyplot as plt\n",
        "from sklearn.metrics import confusion_matrix, classification_report\n",
        "\n",
        "def print_confusion_matrix(y_true, y_pred, report=True):\n",
        "    labels = sorted(list(set(y_true)))\n",
        "    cmx_data = confusion_matrix(y_true, y_pred, labels=labels)\n",
        "    \n",
        "    df_cmx = pd.DataFrame(cmx_data, index=labels, columns=labels)\n",
        " \n",
        "    fig, ax = plt.subplots(figsize=(7, 6))\n",
        "    sns.heatmap(df_cmx, annot=True, fmt='g' ,square=False)\n",
        "    ax.set_ylim(len(set(y_true)), 0)\n",
        "    plt.show()\n",
        "    \n",
        "    if report:\n",
        "        print('Classification Report')\n",
        "        print(classification_report(y_test, y_pred))\n",
        "\n",
        "Y_pred = model.predict(X_test)\n",
        "y_pred = np.argmax(Y_pred, axis=1)\n",
        "\n",
        "print_confusion_matrix(y_test, y_pred)"
      ]
    },
    {
      "cell_type": "markdown",
      "metadata": {
        "id": "FNP6aqzc9hE5"
      },
      "source": [
        "# Convert to model for Tensorflow-Lite"
      ]
    },
    {
      "cell_type": "code",
      "execution_count": 38,
      "metadata": {
        "id": "ODjnYyld9hE6"
      },
      "outputs": [],
      "source": [
        "# Save as a model dedicated to inference\n",
        "model.save(model_save_path, include_optimizer=False)"
      ]
    },
    {
      "cell_type": "code",
      "execution_count": 39,
      "metadata": {
        "colab": {
          "base_uri": "https://localhost:8080/"
        },
        "id": "zRfuK8Y59hE6",
        "outputId": "a4ca585c-b5d5-4244-8291-8674063209bb"
      },
      "outputs": [
        {
          "name": "stdout",
          "output_type": "stream",
          "text": [
            "INFO:tensorflow:Assets written to: C:\\Users\\nlmkatr\\AppData\\Local\\Temp\\tmpcbzau16r\\assets\n"
          ]
        },
        {
          "name": "stderr",
          "output_type": "stream",
          "text": [
            "INFO:tensorflow:Assets written to: C:\\Users\\nlmkatr\\AppData\\Local\\Temp\\tmpcbzau16r\\assets\n"
          ]
        },
        {
          "data": {
            "text/plain": [
              "6528"
            ]
          },
          "execution_count": 39,
          "metadata": {},
          "output_type": "execute_result"
        }
      ],
      "source": [
        "# Transform model (quantization)\n",
        "\n",
        "converter = tf.lite.TFLiteConverter.from_keras_model(model)\n",
        "converter.optimizations = [tf.lite.Optimize.DEFAULT]\n",
        "tflite_quantized_model = converter.convert()\n",
        "\n",
        "open(tflite_save_path, 'wb').write(tflite_quantized_model)"
      ]
    },
    {
      "cell_type": "markdown",
      "metadata": {
        "id": "CHBPBXdx9hE6"
      },
      "source": [
        "# Inference test"
      ]
    },
    {
      "cell_type": "code",
      "execution_count": 40,
      "metadata": {
        "id": "mGAzLocO9hE7"
      },
      "outputs": [],
      "source": [
        "interpreter = tf.lite.Interpreter(model_path=tflite_save_path)\n",
        "interpreter.allocate_tensors()"
      ]
    },
    {
      "cell_type": "code",
      "execution_count": 41,
      "metadata": {
        "id": "oQuDK8YS9hE7"
      },
      "outputs": [],
      "source": [
        "# Get I / O tensor\n",
        "input_details = interpreter.get_input_details()\n",
        "output_details = interpreter.get_output_details()"
      ]
    },
    {
      "cell_type": "code",
      "execution_count": 42,
      "metadata": {
        "id": "2_ixAf_l9hE7"
      },
      "outputs": [],
      "source": [
        "interpreter.set_tensor(input_details[0]['index'], np.array([X_test[0]]))"
      ]
    },
    {
      "cell_type": "code",
      "execution_count": 43,
      "metadata": {
        "colab": {
          "base_uri": "https://localhost:8080/"
        },
        "id": "s4FoAnuc9hE7",
        "outputId": "91f18257-8d8b-4ef3-c558-e9b5f94fabbf",
        "scrolled": true
      },
      "outputs": [
        {
          "name": "stdout",
          "output_type": "stream",
          "text": [
            "CPU times: total: 0 ns\n",
            "Wall time: 997 µs\n"
          ]
        }
      ],
      "source": [
        "%%time\n",
        "# Inference implementation\n",
        "interpreter.invoke()\n",
        "tflite_results = interpreter.get_tensor(output_details[0]['index'])"
      ]
    },
    {
      "cell_type": "code",
      "execution_count": 44,
      "metadata": {
        "colab": {
          "base_uri": "https://localhost:8080/"
        },
        "id": "vONjp19J9hE8",
        "outputId": "77205e24-fd00-42c4-f7b6-e06e527c2cba"
      },
      "outputs": [
        {
          "name": "stdout",
          "output_type": "stream",
          "text": [
            "[0.80017304 0.16061307 0.03921387]\n",
            "0\n"
          ]
        }
      ],
      "source": [
        "print(np.squeeze(tflite_results))\n",
        "print(np.argmax(np.squeeze(tflite_results)))"
      ]
    }
  ],
  "metadata": {
    "accelerator": "GPU",
    "colab": {
      "collapsed_sections": [],
      "name": "keypoint_classification_EN.ipynb",
      "provenance": [],
      "toc_visible": true
    },
    "kernelspec": {
      "display_name": "Python 3.8.13 ('mediapipe')",
      "language": "python",
      "name": "python3"
    },
    "language_info": {
      "codemirror_mode": {
        "name": "ipython",
        "version": 3
      },
      "file_extension": ".py",
      "mimetype": "text/x-python",
      "name": "python",
      "nbconvert_exporter": "python",
      "pygments_lexer": "ipython3",
      "version": "3.8.13"
    },
    "vscode": {
      "interpreter": {
        "hash": "c3b017f682970befdcd78f5188bc9fb61fe32f040d9de1c02d722b5efa57ecc8"
      }
    }
  },
  "nbformat": 4,
  "nbformat_minor": 0
}
